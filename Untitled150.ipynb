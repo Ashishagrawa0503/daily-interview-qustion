{
  "nbformat": 4,
  "nbformat_minor": 0,
  "metadata": {
    "colab": {
      "provenance": [],
      "authorship_tag": "ABX9TyPss+SoGkph0+vzqKg/tnwc",
      "include_colab_link": true
    },
    "kernelspec": {
      "name": "python3",
      "display_name": "Python 3"
    },
    "language_info": {
      "name": "python"
    }
  },
  "cells": [
    {
      "cell_type": "markdown",
      "metadata": {
        "id": "view-in-github",
        "colab_type": "text"
      },
      "source": [
        "<a href=\"https://colab.research.google.com/github/Ashishagrawa0503/daily-interview-qustion/blob/main/Untitled150.ipynb\" target=\"_parent\"><img src=\"https://colab.research.google.com/assets/colab-badge.svg\" alt=\"Open In Colab\"/></a>"
      ]
    },
    {
      "cell_type": "code",
      "source": [
        "import numpy as np\n",
        "class Node:\n",
        "  def __init__(self,feature_index=None,threshold=None,left=None,right=None,predicted_class=None):\n",
        "    self.feature_index=feature_index\n",
        "    self.threshold=threshold\n",
        "    self.left=left\n",
        "    self.right=right\n",
        "    self.predicted_class=predicted_class\n",
        "\n",
        "class DecisionTree:\n",
        "  def __init__(self,max_depth=None):#ye depth aapan khud dalte hai ke kitne depth ka decision tree baanana hai 2,4,ect\n",
        "    self.max_depth=max_depth\n",
        "\n",
        "   def fit(self,X,y):\n",
        "    self.n_classes=len(set(y))#y ke jitne be unique classes hai  unke length\n",
        "    self.n_feature=X.shape[1]# number of colums in data\n",
        "    self.tree=self._grow_tree(X,y)\n",
        "\n",
        "   def _grow_tree(self,X,y,depth=0):\n",
        "    num_samples_per_class=[]\n",
        "    for i in range(self.n_classes):\n",
        "      count=np.sum(y == i) #y main kitne baar i aaya hai\n",
        "      num_samples_per_class.append(count)\n",
        "    predicted_class=np.argmax(num_samples_per_calss)  #num_samples_per_calss ke subse bade value ke index ko deta hai\n",
        "    node=Node(predicted_class=predicted_class)\n",
        "    if depth < self.max_depth:\n",
        "      idx,thr= self._best_split(X,y)\n",
        "      if idx is not None:\n",
        "        indices_left=X[:,idx]<thr# maano thr =0.5 hai to 0.5 se choti value true or bade value false ho jayenge\n",
        "        X_left,y_left=X[indices_left],y[indices_left]\n",
        "        X_right,y_right=X[~indices_left],y[~indices_left]# \"~\" ye bitwise operater hai jo true ko false or false ko true kr dega\n",
        "        node.feature_index=idx\n",
        "        node.threshold=thr\n",
        "        node.left=self._grow_tree(X_left,y_left,depth+1)\n",
        "        node.right=self._grow_tree(X_right,y_right,depth+1)\n",
        "    return node\n",
        "\n",
        "class _best_split(self,X,y):\n",
        "  m,n=X.shape\n",
        "  if m<=1: # data ke number of rows\n",
        "     return None, None\n",
        "  num_parent= []\n",
        "  for c in range(self.n_classes):\n",
        "      cnt=np.sum(y == i) #y main kitne baar c aaya hai\n",
        "      num_parent.append(cnt)\n",
        "  best_gini = 1.0-sum((num/m)**2 for num in num_parent)\n",
        "  best_idx,best_thr= None,None\n",
        "  for idx in range(n):\n",
        "    threshold,classes=zip(*sorted(zip(X[:,idx],y)))\n",
        "#x main jitne be row hai unke unique kitne baar aaye hai uske idx,y ko zip yane list ke andar bhar do\n",
        "     num_left=[0]*self.n_classes\n",
        "     num_right=num_parent .copy()\n",
        "\n",
        "     for i in range(1,m):\n",
        "      c=classes[i-1]# upper jo classes or threshold nikala hai usme claases main i-1 wala indx\n",
        "      num_left[c]+=1\n",
        "      num_right[c]-=1#num_left or num_right be upper nikala hai\n",
        "      gini_left=1.0#gini ka formula\n",
        "      if i!=0:\n",
        "        sum_sq=0.0\n",
        "        for x in range(self.n_classes):\n",
        "          p=num_left[X]/i # xth class ka proportion\n",
        "          sum_sq += p**2 #squre\n",
        "        gini_left -= sum_sq\n",
        "      gini_right=1.0 - sum((num_right[X] /(m-i))**2 for x in range(self.n_classes) if (m-i) !=0)\n",
        "      gini =(i * gini_left + (m-i)*gini_right) / m\n",
        "\n",
        "       if thresholds[i] == thresholds[i - 1]:\n",
        "                    continue\n",
        "\n",
        "                if gini < best_gini:\n",
        "                    best_gini = gini\n",
        "                    best_idx = idx\n",
        "                    best_thr = (thresholds[i] + thresholds[i - 1]) / 2\n",
        "\n",
        "        return best_idx, best_thr\n"
      ],
      "metadata": {
        "id": "WvGco_s_zit1"
      },
      "execution_count": null,
      "outputs": []
    }
  ]
}